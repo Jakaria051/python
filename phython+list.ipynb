{
 "cells": [
  {
   "cell_type": "code",
   "execution_count": 23,
   "metadata": {},
   "outputs": [
    {
     "name": "stdout",
     "output_type": "stream",
     "text": [
      "abcdefgh\n",
      "last letter is :  g\n",
      "middle letter is :  e\n",
      "[2, 3, 5, 7, 11, 2, 4, 6, 8]\n",
      "[2, 3, 5, 7, 11, 13]\n",
      "List contains the number 5\n",
      "2\n",
      "7\n",
      "11\n",
      "5\n",
      "5\n"
     ]
    }
   ],
   "source": [
    "# input a string and output its second last letter and middle letter\n",
    "my_list =input()    \n",
    "print(\"last letter is : \",my_list[-2])\n",
    "d =len(my_list)//2\n",
    "print(\"middle letter is : \",my_list[d])\n",
    "\n",
    "\n",
    "#rules of phython list\n",
    "\n",
    "my_list =[2, 3, 5, 7, 11]\n",
    "your_list = [2, 4, 6, 8]\n",
    "new_list = my_list + your_list # list concatenation\n",
    "print(new_list)\n",
    "my_list.append(13) # add a number to end of list\n",
    "print(my_list)\n",
    "# we can use the 'in' keyword to find\n",
    "# if an element is in the list\n",
    "if 5 in my_list:\n",
    "    print('List contains the number 5')\n",
    "    \n",
    "    \n",
    "#lists are similar to arrays\n",
    "my_list = [2, 3, 5, 7, 11] #declaring a new list\n",
    "print (my_list[0]) #lists are indexed from zero\n",
    "print (my_list[3])\n",
    "#lists support negative indexing!\n",
    "print(my_list[-1]) #last item\n",
    "print(my_list[-3]) #third last item\n",
    "length =len(my_list) #len() function return length\n",
    "print(length)"
   ]
  }
 ],
 "metadata": {
  "kernelspec": {
   "display_name": "Python 3",
   "language": "python",
   "name": "python3"
  },
  "language_info": {
   "codemirror_mode": {
    "name": "ipython",
    "version": 3
   },
   "file_extension": ".py",
   "mimetype": "text/x-python",
   "name": "python",
   "nbconvert_exporter": "python",
   "pygments_lexer": "ipython3",
   "version": "3.6.1"
  }
 },
 "nbformat": 4,
 "nbformat_minor": 2
}

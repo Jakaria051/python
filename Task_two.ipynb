{
 "cells": [
  {
   "cell_type": "code",
   "execution_count": 17,
   "metadata": {},
   "outputs": [
    {
     "name": "stdout",
     "output_type": "stream",
     "text": [
      "a\n",
      "Vowel\n",
      "j\n",
      "ambiguous\n"
     ]
    }
   ],
   "source": [
    "# FIND OUT IF A LETTER IS VOWEL OR CONSONENT\n",
    "n = input()\n",
    "if n in \"AEIOU\" or n in \"aeiou\":\n",
    "    print(\"Vowel\")\n",
    "else:\n",
    "    print(\"Consonent\")\n",
    "    \n",
    "    \n",
    "# find out if an input sequence is DNA,RNA or ambiguous\n",
    "\n",
    "nucleous = input()\n",
    "if 'T' in nucleous and 'U' not in nucleous:\n",
    "    print(\"DNA\")\n",
    "elif 'U' in nucleous and 'T' not in nucleous:\n",
    "    print(\"RNA\")\n",
    "else:\n",
    "    print(\"ambiguous\")"
   ]
  }
 ],
 "metadata": {
  "kernelspec": {
   "display_name": "Python 3",
   "language": "python",
   "name": "python3"
  },
  "language_info": {
   "codemirror_mode": {
    "name": "ipython",
    "version": 3
   },
   "file_extension": ".py",
   "mimetype": "text/x-python",
   "name": "python",
   "nbconvert_exporter": "python",
   "pygments_lexer": "ipython3",
   "version": "3.6.1"
  }
 },
 "nbformat": 4,
 "nbformat_minor": 2
}


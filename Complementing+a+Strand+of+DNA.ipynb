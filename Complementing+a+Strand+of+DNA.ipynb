{
 "cells": [
  {
   "cell_type": "code",
   "execution_count": 1,
   "metadata": {},
   "outputs": [
    {
     "name": "stdout",
     "output_type": "stream",
     "text": [
      "AAAACCCGGT\n",
      "ACCGGGTTTT \n"
     ]
    }
   ],
   "source": [
    "#http://rosalind.info/problems/revc/\n",
    "dna = input()\n",
    "comp = {'A':'T','C':'G','G':'C','T':'A'}\n",
    "result = ' '\n",
    "for n in dna:\n",
    "     result+=comp[n]\n",
    "print(result[::-1])     #input AAAACCCGGT"
   ]
  }
 ],
 "metadata": {
  "kernelspec": {
   "display_name": "Python 3",
   "language": "python",
   "name": "python3"
  },
  "language_info": {
   "codemirror_mode": {
    "name": "ipython",
    "version": 3
   },
   "file_extension": ".py",
   "mimetype": "text/x-python",
   "name": "python",
   "nbconvert_exporter": "python",
   "pygments_lexer": "ipython3",
   "version": "3.6.1"
  }
 },
 "nbformat": 4,
 "nbformat_minor": 2
}

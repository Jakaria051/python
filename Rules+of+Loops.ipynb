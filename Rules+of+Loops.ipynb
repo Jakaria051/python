{
 "cells": [
  {
   "cell_type": "code",
   "execution_count": 9,
   "metadata": {},
   "outputs": [
    {
     "name": "stdout",
     "output_type": "stream",
     "text": [
      "\n",
      "Example1 of for loop--->\n",
      "\n",
      "Letter is j\n",
      "Letter is a\n",
      "Letter is k\n",
      "Letter is a\n",
      "Letter is r\n",
      "Letter is i\n",
      "Letter is a\n",
      "\n",
      "Example2 of for loop--->\n",
      "\n",
      "Letter is aaa\n",
      "Letter is bbb\n",
      "Letter is cccc\n",
      "Letter is ddddddd\n",
      "\n",
      "Example3 of for loop--->\n",
      "\n",
      "7\n",
      "\n",
      "Example1 of while loop--->\n",
      "\n",
      "0  is  less than 5\n",
      "1  is  less than 5\n",
      "2  is  less than 5\n",
      "3  is  less than 5\n",
      "4  is  less than 5\n",
      "5 is equal to 5  5\n"
     ]
    }
   ],
   "source": [
    "print(\"\\nExample1 of for loop--->\\n\")\n",
    "\n",
    "for n in 'jakaria':\n",
    "    print(\"Letter is\",n)\n",
    "    \n",
    "    \n",
    "    \n",
    "print(\"\\nExample2 of for loop--->\\n\")\n",
    "abc = ['aaa','bbb','cccc','ddddddd']\n",
    "for n in abc:\n",
    "    print(\"Letter is\",n)\n",
    "    \n",
    "    \n",
    "    \n",
    "print(\"\\nExample3 of for loop--->\\n\")                 #count the vowels in your text\n",
    "text=\"Jakaria ahmed chowdhury\"\n",
    "count=0\n",
    "for n in text:\n",
    "    if(n=='a' or n=='e' or n=='i' or n=='u' or n=='A'or n=='E' or n=='I'or n=='O' or n=='U'):\n",
    "        count = count+1\n",
    "print(count)\n",
    "\n",
    "\n",
    "\n",
    "\n",
    "\n",
    "\n",
    "\n",
    "\n",
    "# while loop\n",
    "print(\"\\nExample1 of while loop--->\\n\")\n",
    "c = 0\n",
    "while c < 5:\n",
    "    print(c,\" is  less than 5\")\n",
    "    c+=1\n",
    "else:\n",
    "    print(c,\"is equal to 5 \",c)\n",
    "    \n",
    "\n",
    "\n",
    "    \n"
   ]
  }
 ],
 "metadata": {
  "kernelspec": {
   "display_name": "Python 3",
   "language": "python",
   "name": "python3"
  },
  "language_info": {
   "codemirror_mode": {
    "name": "ipython",
    "version": 3
   },
   "file_extension": ".py",
   "mimetype": "text/x-python",
   "name": "python",
   "nbconvert_exporter": "python",
   "pygments_lexer": "ipython3",
   "version": "3.6.1"
  }
 },
 "nbformat": 4,
 "nbformat_minor": 2
}

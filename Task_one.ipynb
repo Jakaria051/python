{
 "cells": [
  {
   "cell_type": "code",
   "execution_count": 15,
   "metadata": {},
   "outputs": [
    {
     "name": "stdout",
     "output_type": "stream",
     "text": [
      "\n",
      "1. GC percentage: count the total percentage of G+C nucleotides in a DNA sequence--AGTCGTTACA--40%\n",
      "\n",
      "\n",
      "4\n",
      "40.0\n",
      "\n",
      "2. complement::Find the complement of a DNA String----TGCTAC---ACGATG\n",
      "\n",
      "ACGATG\n",
      "\n",
      "3. count position those are not  exist in given string\n",
      "\n",
      "0 2 3 5 7 9 11 \n"
     ]
    }
   ],
   "source": [
    "print(\"\\n1. GC percentage: count the total percentage of G+C nucleotides in a DNA sequence--AGTCGTTACA--40%\\n\\n\")\n",
    "text=\"AGTCGTTACA\"\n",
    "c='CG'\n",
    "count=0\n",
    "percentage=0\n",
    "for n in text:\n",
    "    if n in c:\n",
    "        count=count+1\n",
    "print(count)\n",
    "percentage=(count/len(text)*100)\n",
    "print(percentage)\n",
    "\n",
    "\n",
    "print(\"\\n2. complement::Find the complement of a DNA String----TGCTAC---ACGATG\\n\")\n",
    "text='TGCTAC'\n",
    "string=\"\"\n",
    "for n in text:\n",
    "    if n in 'T':\n",
    "        string+=\"A\"\n",
    "    if n in 'G':\n",
    "        string+=\"C\" \n",
    "    if n in 'C':\n",
    "        string+=\"G\"\n",
    "    if n in 'A':\n",
    "        string+=\"T\"\n",
    "print(string)\n",
    "\n",
    "\n",
    "print(\"\\n3. count position those are not  exist in given string\\n\")\n",
    "t='Metropolitan'\n",
    "result=''\n",
    "for i in range(len(t)):\n",
    "    if t[i] not in 'aeiouAEIOU':\n",
    "        result+=str(i) + ' '\n",
    "print(result)\n"
   ]
  }
 ],
 "metadata": {
  "kernelspec": {
   "display_name": "Python 3",
   "language": "python",
   "name": "python3"
  },
  "language_info": {
   "codemirror_mode": {
    "name": "ipython",
    "version": 3
   },
   "file_extension": ".py",
   "mimetype": "text/x-python",
   "name": "python",
   "nbconvert_exporter": "python",
   "pygments_lexer": "ipython3",
   "version": "3.6.1"
  }
 },
 "nbformat": 4,
 "nbformat_minor": 2
}
